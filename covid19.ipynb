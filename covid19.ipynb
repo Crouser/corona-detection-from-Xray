{
  "nbformat": 4,
  "nbformat_minor": 0,
  "metadata": {
    "colab": {
      "name": "covid19",
      "provenance": []
    },
    "kernelspec": {
      "name": "python3",
      "display_name": "Python 3"
    },
    "accelerator": "GPU"
  },
  "cells": [
    {
      "cell_type": "code",
      "metadata": {
        "id": "ETaJSc2nKA-P",
        "colab_type": "code",
        "colab": {
          "base_uri": "https://localhost:8080/",
          "height": 63
        },
        "outputId": "dbd81185-b2c3-455d-f5ce-f17927fd9699"
      },
      "source": [
        "# import the necessary packages\n",
        "from tensorflow.keras.preprocessing.image import ImageDataGenerator\n",
        "from tensorflow.keras.applications import VGG16\n",
        "from tensorflow.keras.layers import AveragePooling2D\n",
        "from tensorflow.keras.layers import Dropout\n",
        "from tensorflow.keras.layers import Flatten\n",
        "from tensorflow.keras.layers import Dense\n",
        "from tensorflow.keras.layers import Input\n",
        "from tensorflow.keras.models import Model\n",
        "from tensorflow.keras.optimizers import Adam\n",
        "from tensorflow.keras.utils import to_categorical\n",
        "from sklearn.preprocessing import LabelBinarizer\n",
        "from sklearn.model_selection import train_test_split\n",
        "from sklearn.metrics import classification_report\n",
        "from sklearn.metrics import confusion_matrix\n",
        "from imutils import paths\n",
        "import matplotlib.pyplot as plt\n",
        "import numpy as np\n",
        "import argparse\n",
        "import cv2\n",
        "import os"
      ],
      "execution_count": 1,
      "outputs": [
        {
          "output_type": "display_data",
          "data": {
            "text/html": [
              "<p style=\"color: red;\">\n",
              "The default version of TensorFlow in Colab will soon switch to TensorFlow 2.x.<br>\n",
              "We recommend you <a href=\"https://www.tensorflow.org/guide/migrate\" target=\"_blank\">upgrade</a> now \n",
              "or ensure your notebook will continue to use TensorFlow 1.x via the <code>%tensorflow_version 1.x</code> magic:\n",
              "<a href=\"https://colab.research.google.com/notebooks/tensorflow_version.ipynb\" target=\"_blank\">more info</a>.</p>\n"
            ],
            "text/plain": [
              "<IPython.core.display.HTML object>"
            ]
          },
          "metadata": {
            "tags": []
          }
        }
      ]
    },
    {
      "cell_type": "code",
      "metadata": {
        "id": "aE31YIr9KMRf",
        "colab_type": "code",
        "colab": {}
      },
      "source": [
        "# initialize the initial learning rate, number of epochs to train for,\n",
        "# and batch size\n",
        "INIT_LR = 1e-3\n",
        "EPOCHS = 25\n",
        "BS = 8"
      ],
      "execution_count": 0,
      "outputs": []
    },
    {
      "cell_type": "code",
      "metadata": {
        "id": "GemUm06iKSsQ",
        "colab_type": "code",
        "outputId": "14ae3e36-9ef7-4c3d-e67b-8a46a1bfddd0",
        "colab": {
          "base_uri": "https://localhost:8080/",
          "height": 34
        }
      },
      "source": [
        "# grab the list of images in our dataset directory, then initialize\n",
        "# the list of data (i.e., images) and class images\n",
        "print(\"[INFO] loading images...\")\n",
        "imagePaths = list(paths.list_images(\"/content/drive/My Drive/keras-covid-19/keras-covid-19/dataset\"))\n",
        "data = []\n",
        "labels = []\n",
        "# loop over the image paths\n",
        "for imagePath in imagePaths:\n",
        "    # extract the class label from the filename\n",
        "    label = imagePath.split(os.path.sep)[-2]\n",
        "    # load the image, swap color channels, and resize it to be a fixed\n",
        "    # 224x224 pixels while ignoring aspect ratio\n",
        "    image = cv2.imread(imagePath)\n",
        "    image = cv2.cvtColor(image, cv2.COLOR_BGR2RGB)\n",
        "    image = cv2.resize(image, (224, 224))\n",
        "    # update the data and labels lists, respectively\n",
        "    data.append(image)\n",
        "    labels.append(label)\n",
        "\n",
        "# convert the data and labels to NumPy arrays while scaling the pixel\n",
        "# intensities to the range [0, 1]\n",
        "data = np.array(data) / 255.0\n",
        "labels = np.array(labels)\n"
      ],
      "execution_count": 3,
      "outputs": [
        {
          "output_type": "stream",
          "text": [
            "[INFO] loading images...\n"
          ],
          "name": "stdout"
        }
      ]
    },
    {
      "cell_type": "code",
      "metadata": {
        "id": "L8erTOdvKf5w",
        "colab_type": "code",
        "outputId": "5adb28be-9cfa-487a-97bc-f4e023a45c48",
        "colab": {
          "base_uri": "https://localhost:8080/",
          "height": 867
        }
      },
      "source": [
        "# perform one-hot encoding on the labels\n",
        "lb = LabelBinarizer()\n",
        "labels = lb.fit_transform(labels)\n",
        "labels = to_categorical(labels); print(labels)\n",
        "# partition the data into training and testing splits using 80% of\n",
        "# the data for training and the remaining 20% for testing\n",
        "(trainX, testX, trainY, testY) = train_test_split(data, labels,\n",
        "\ttest_size=0.20, stratify=labels, random_state=42)\n",
        "# initialize the training data augmentation object\n",
        "trainAug = ImageDataGenerator(\n",
        "\trotation_range=15,\n",
        "\tfill_mode=\"nearest\")"
      ],
      "execution_count": 4,
      "outputs": [
        {
          "output_type": "stream",
          "text": [
            "[[0. 1.]\n",
            " [0. 1.]\n",
            " [0. 1.]\n",
            " [0. 1.]\n",
            " [0. 1.]\n",
            " [0. 1.]\n",
            " [0. 1.]\n",
            " [0. 1.]\n",
            " [0. 1.]\n",
            " [0. 1.]\n",
            " [0. 1.]\n",
            " [0. 1.]\n",
            " [0. 1.]\n",
            " [0. 1.]\n",
            " [0. 1.]\n",
            " [0. 1.]\n",
            " [0. 1.]\n",
            " [0. 1.]\n",
            " [0. 1.]\n",
            " [0. 1.]\n",
            " [0. 1.]\n",
            " [0. 1.]\n",
            " [0. 1.]\n",
            " [0. 1.]\n",
            " [0. 1.]\n",
            " [1. 0.]\n",
            " [1. 0.]\n",
            " [1. 0.]\n",
            " [1. 0.]\n",
            " [1. 0.]\n",
            " [1. 0.]\n",
            " [1. 0.]\n",
            " [1. 0.]\n",
            " [1. 0.]\n",
            " [1. 0.]\n",
            " [1. 0.]\n",
            " [1. 0.]\n",
            " [1. 0.]\n",
            " [1. 0.]\n",
            " [1. 0.]\n",
            " [1. 0.]\n",
            " [1. 0.]\n",
            " [1. 0.]\n",
            " [1. 0.]\n",
            " [1. 0.]\n",
            " [1. 0.]\n",
            " [1. 0.]\n",
            " [1. 0.]\n",
            " [1. 0.]\n",
            " [1. 0.]]\n"
          ],
          "name": "stdout"
        }
      ]
    },
    {
      "cell_type": "code",
      "metadata": {
        "id": "A2f42qDEKsTC",
        "colab_type": "code",
        "colab": {
          "base_uri": "https://localhost:8080/",
          "height": 122
        },
        "outputId": "756f9337-f26e-4b77-a090-ee4107698a6a"
      },
      "source": [
        "# load the VGG16 network, ensuring the head FC layer sets are left\n",
        "# off\n",
        "baseModel = VGG16(weights=\"imagenet\", include_top=False,\n",
        "\tinput_tensor=Input(shape=(224, 224, 3)))\n",
        "# construct the head of the model that will be placed on top of the\n",
        "# the base model\n",
        "headModel = baseModel.output\n",
        "headModel = AveragePooling2D(pool_size=(4, 4))(headModel)\n",
        "headModel = Flatten(name=\"flatten\")(headModel)\n",
        "headModel = Dense(64, activation=\"relu\")(headModel)\n",
        "headModel = Dropout(0.5)(headModel)\n",
        "headModel = Dense(2, activation=\"softmax\")(headModel)\n",
        "# place the head FC model on top of the base model (this will become\n",
        "# the actual model we will train)\n",
        "model = Model(inputs=baseModel.input, outputs=headModel)\n",
        "# loop over all layers in the base model and freeze them so they will\n",
        "# *not* be updated during the first training process\n",
        "for layer in baseModel.layers:\n",
        "\tlayer.trainable = False"
      ],
      "execution_count": 5,
      "outputs": [
        {
          "output_type": "stream",
          "text": [
            "WARNING:tensorflow:From /tensorflow-1.15.0/python3.6/tensorflow_core/python/ops/resource_variable_ops.py:1630: calling BaseResourceVariable.__init__ (from tensorflow.python.ops.resource_variable_ops) with constraint is deprecated and will be removed in a future version.\n",
            "Instructions for updating:\n",
            "If using Keras pass *_constraint arguments to layers.\n",
            "Downloading data from https://github.com/fchollet/deep-learning-models/releases/download/v0.1/vgg16_weights_tf_dim_ordering_tf_kernels_notop.h5\n",
            "58892288/58889256 [==============================] - 2s 0us/step\n"
          ],
          "name": "stdout"
        }
      ]
    },
    {
      "cell_type": "code",
      "metadata": {
        "id": "TbPkDfYmKxCU",
        "colab_type": "code",
        "outputId": "303d4917-7791-4fa7-c495-976f807b99c5",
        "colab": {
          "base_uri": "https://localhost:8080/",
          "height": 1000
        }
      },
      "source": [
        "# compile our model\n",
        "print(\"[INFO] compiling model...\")\n",
        "opt = Adam(lr=INIT_LR, decay=INIT_LR / EPOCHS)\n",
        "model.compile(loss=\"binary_crossentropy\", optimizer=opt,\n",
        "\tmetrics=[\"accuracy\"])\n",
        "# train the head of the network\n",
        "print(\"[INFO] training head...\")\n",
        "H = model.fit_generator(\n",
        "\ttrainAug.flow(trainX, trainY, batch_size=BS),\n",
        "\tsteps_per_epoch=len(trainX) // BS,\n",
        "\tvalidation_data=(testX, testY),\n",
        "\tvalidation_steps=len(testX) // BS,\n",
        "\tepochs=EPOCHS)"
      ],
      "execution_count": 6,
      "outputs": [
        {
          "output_type": "stream",
          "text": [
            "[INFO] compiling model...\n",
            "[INFO] training head...\n",
            "Epoch 1/25\n",
            "WARNING:tensorflow:From /tensorflow-1.15.0/python3.6/tensorflow_core/python/ops/math_grad.py:1424: where (from tensorflow.python.ops.array_ops) is deprecated and will be removed in a future version.\n",
            "Instructions for updating:\n",
            "Use tf.where in 2.0, which has the same broadcast rule as np.where\n",
            "3/5 [=================>............] - ETA: 4s - loss: 0.7747 - acc: 0.4583 Epoch 1/25\n",
            "10/5 [============================================================] - 0s 34ms/sample - loss: 0.6896 - acc: 0.6000\n",
            "5/5 [==============================] - 7s 1s/step - loss: 0.8023 - acc: 0.4250 - val_loss: 0.6813 - val_acc: 0.6000\n",
            "Epoch 2/25\n",
            "4/5 [=======================>......] - ETA: 0s - loss: 0.9143 - acc: 0.4375Epoch 1/25\n",
            "10/5 [============================================================] - 0s 4ms/sample - loss: 0.6709 - acc: 0.7000\n",
            "5/5 [==============================] - 0s 60ms/step - loss: 0.8517 - acc: 0.4750 - val_loss: 0.6626 - val_acc: 0.7000\n",
            "Epoch 3/25\n",
            "4/5 [=======================>......] - ETA: 0s - loss: 0.6768 - acc: 0.6562Epoch 1/25\n",
            "10/5 [============================================================] - 0s 4ms/sample - loss: 0.6549 - acc: 0.5000\n",
            "5/5 [==============================] - 0s 94ms/step - loss: 0.6977 - acc: 0.6250 - val_loss: 0.6478 - val_acc: 0.5000\n",
            "Epoch 4/25\n",
            "4/5 [=======================>......] - ETA: 0s - loss: 0.5745 - acc: 0.6250Epoch 1/25\n",
            "10/5 [============================================================] - 0s 5ms/sample - loss: 0.6394 - acc: 0.8000\n",
            "5/5 [==============================] - 0s 100ms/step - loss: 0.6002 - acc: 0.6250 - val_loss: 0.6312 - val_acc: 0.8000\n",
            "Epoch 5/25\n",
            "4/5 [=======================>......] - ETA: 0s - loss: 0.6215 - acc: 0.7188Epoch 1/25\n",
            "10/5 [============================================================] - 0s 5ms/sample - loss: 0.6447 - acc: 0.7000\n",
            "5/5 [==============================] - 0s 88ms/step - loss: 0.6197 - acc: 0.7000 - val_loss: 0.6332 - val_acc: 0.7000\n",
            "Epoch 6/25\n",
            "4/5 [=======================>......] - ETA: 0s - loss: 0.6223 - acc: 0.7500Epoch 1/25\n",
            "10/5 [============================================================] - 0s 4ms/sample - loss: 0.6542 - acc: 0.7000\n",
            "5/5 [==============================] - 0s 90ms/step - loss: 0.6507 - acc: 0.7000 - val_loss: 0.6387 - val_acc: 0.7000\n",
            "Epoch 7/25\n",
            "4/5 [=======================>......] - ETA: 0s - loss: 0.6116 - acc: 0.7188Epoch 1/25\n",
            "10/5 [============================================================] - 0s 5ms/sample - loss: 0.6587 - acc: 0.7000\n",
            "5/5 [==============================] - 0s 92ms/step - loss: 0.6049 - acc: 0.7250 - val_loss: 0.6402 - val_acc: 0.7000\n",
            "Epoch 8/25\n",
            "4/5 [=======================>......] - ETA: 0s - loss: 0.5461 - acc: 0.7812Epoch 1/25\n",
            "10/5 [============================================================] - 0s 5ms/sample - loss: 0.6182 - acc: 0.9000\n",
            "5/5 [==============================] - 0s 86ms/step - loss: 0.5418 - acc: 0.8000 - val_loss: 0.6038 - val_acc: 0.9000\n",
            "Epoch 9/25\n",
            "4/5 [=======================>......] - ETA: 0s - loss: 0.4832 - acc: 0.8438Epoch 1/25\n",
            "10/5 [============================================================] - 0s 4ms/sample - loss: 0.5910 - acc: 0.8000\n",
            "5/5 [==============================] - 0s 85ms/step - loss: 0.5070 - acc: 0.8000 - val_loss: 0.5812 - val_acc: 0.8000\n",
            "Epoch 10/25\n",
            "4/5 [=======================>......] - ETA: 0s - loss: 0.5562 - acc: 0.7188Epoch 1/25\n",
            "10/5 [============================================================] - 0s 5ms/sample - loss: 0.5898 - acc: 0.9000\n",
            "5/5 [==============================] - 0s 90ms/step - loss: 0.5506 - acc: 0.7250 - val_loss: 0.5759 - val_acc: 0.9000\n",
            "Epoch 11/25\n",
            "4/5 [=======================>......] - ETA: 0s - loss: 0.5525 - acc: 0.7188Epoch 1/25\n",
            "10/5 [============================================================] - 0s 5ms/sample - loss: 0.6091 - acc: 0.7000\n",
            "5/5 [==============================] - 0s 82ms/step - loss: 0.5538 - acc: 0.7500 - val_loss: 0.5878 - val_acc: 0.7000\n",
            "Epoch 12/25\n",
            "4/5 [=======================>......] - ETA: 0s - loss: 0.5031 - acc: 0.7500Epoch 1/25\n",
            "10/5 [============================================================] - 0s 5ms/sample - loss: 0.6003 - acc: 0.7000\n",
            "5/5 [==============================] - 0s 81ms/step - loss: 0.5311 - acc: 0.7500 - val_loss: 0.5773 - val_acc: 0.7000\n",
            "Epoch 13/25\n",
            "4/5 [=======================>......] - ETA: 0s - loss: 0.4260 - acc: 0.9062Epoch 1/25\n",
            "10/5 [============================================================] - 0s 4ms/sample - loss: 0.5685 - acc: 0.9000\n",
            "5/5 [==============================] - 0s 81ms/step - loss: 0.4458 - acc: 0.8750 - val_loss: 0.5481 - val_acc: 0.9000\n",
            "Epoch 14/25\n",
            "4/5 [=======================>......] - ETA: 0s - loss: 0.4972 - acc: 0.7812Epoch 1/25\n",
            "10/5 [============================================================] - 0s 5ms/sample - loss: 0.5484 - acc: 0.9000\n",
            "5/5 [==============================] - 0s 96ms/step - loss: 0.5055 - acc: 0.7750 - val_loss: 0.5305 - val_acc: 0.9000\n",
            "Epoch 15/25\n",
            "4/5 [=======================>......] - ETA: 0s - loss: 0.4645 - acc: 0.7812Epoch 1/25\n",
            "10/5 [============================================================] - 0s 4ms/sample - loss: 0.5401 - acc: 0.9000\n",
            "5/5 [==============================] - 0s 81ms/step - loss: 0.4483 - acc: 0.8000 - val_loss: 0.5209 - val_acc: 0.9000\n",
            "Epoch 16/25\n",
            "4/5 [=======================>......] - ETA: 0s - loss: 0.4970 - acc: 0.8125Epoch 1/25\n",
            "10/5 [============================================================] - 0s 5ms/sample - loss: 0.5478 - acc: 0.9000\n",
            "5/5 [==============================] - 0s 93ms/step - loss: 0.4574 - acc: 0.8500 - val_loss: 0.5209 - val_acc: 0.9000\n",
            "Epoch 17/25\n",
            "4/5 [=======================>......] - ETA: 0s - loss: 0.3746 - acc: 0.9062Epoch 1/25\n",
            "10/5 [============================================================] - 0s 5ms/sample - loss: 0.5690 - acc: 0.8000\n",
            "5/5 [==============================] - 0s 83ms/step - loss: 0.3838 - acc: 0.9000 - val_loss: 0.5330 - val_acc: 0.8000\n",
            "Epoch 18/25\n",
            "4/5 [=======================>......] - ETA: 0s - loss: 0.4102 - acc: 0.9375Epoch 1/25\n",
            "10/5 [============================================================] - 0s 5ms/sample - loss: 0.6135 - acc: 0.7000\n",
            "5/5 [==============================] - 0s 80ms/step - loss: 0.4662 - acc: 0.8750 - val_loss: 0.5653 - val_acc: 0.7000\n",
            "Epoch 19/25\n",
            "4/5 [=======================>......] - ETA: 0s - loss: 0.2926 - acc: 1.0000Epoch 1/25\n",
            "10/5 [============================================================] - 0s 4ms/sample - loss: 0.5599 - acc: 0.9000\n",
            "5/5 [==============================] - 0s 84ms/step - loss: 0.3386 - acc: 0.9750 - val_loss: 0.5216 - val_acc: 0.9000\n",
            "Epoch 20/25\n",
            "4/5 [=======================>......] - ETA: 0s - loss: 0.3741 - acc: 0.8125Epoch 1/25\n",
            "10/5 [============================================================] - 0s 5ms/sample - loss: 0.5222 - acc: 0.9000\n",
            "5/5 [==============================] - 0s 92ms/step - loss: 0.3856 - acc: 0.8250 - val_loss: 0.4938 - val_acc: 0.9000\n",
            "Epoch 21/25\n",
            "4/5 [=======================>......] - ETA: 0s - loss: 0.3639 - acc: 0.9062Epoch 1/25\n",
            "10/5 [============================================================] - 0s 5ms/sample - loss: 0.5273 - acc: 0.9000\n",
            "5/5 [==============================] - 0s 81ms/step - loss: 0.3537 - acc: 0.9000 - val_loss: 0.4951 - val_acc: 0.9000\n",
            "Epoch 22/25\n",
            "4/5 [=======================>......] - ETA: 0s - loss: 0.3656 - acc: 0.9062Epoch 1/25\n",
            "10/5 [============================================================] - 0s 4ms/sample - loss: 0.5650 - acc: 0.9000\n",
            "5/5 [==============================] - 0s 84ms/step - loss: 0.3621 - acc: 0.9000 - val_loss: 0.5195 - val_acc: 0.9000\n",
            "Epoch 23/25\n",
            "4/5 [=======================>......] - ETA: 0s - loss: 0.3601 - acc: 0.9062Epoch 1/25\n",
            "10/5 [============================================================] - 0s 5ms/sample - loss: 0.5711 - acc: 0.8000\n",
            "5/5 [==============================] - 0s 89ms/step - loss: 0.3501 - acc: 0.9250 - val_loss: 0.5209 - val_acc: 0.8000\n",
            "Epoch 24/25\n",
            "4/5 [=======================>......] - ETA: 0s - loss: 0.3663 - acc: 0.9688Epoch 1/25\n",
            "10/5 [============================================================] - 0s 4ms/sample - loss: 0.5300 - acc: 0.9000\n",
            "5/5 [==============================] - 0s 87ms/step - loss: 0.3594 - acc: 0.9500 - val_loss: 0.4882 - val_acc: 0.9000\n",
            "Epoch 25/25\n",
            "4/5 [=======================>......] - ETA: 0s - loss: 0.3260 - acc: 0.9062Epoch 1/25\n",
            "10/5 [============================================================] - 0s 5ms/sample - loss: 0.5094 - acc: 0.9000\n",
            "5/5 [==============================] - 0s 93ms/step - loss: 0.3260 - acc: 0.9250 - val_loss: 0.4689 - val_acc: 0.9000\n"
          ],
          "name": "stdout"
        }
      ]
    },
    {
      "cell_type": "code",
      "metadata": {
        "id": "LoOGwUJ7K1CU",
        "colab_type": "code",
        "outputId": "3ce212d1-6519-4170-84e6-434c83c90b40",
        "colab": {
          "base_uri": "https://localhost:8080/",
          "height": 187
        }
      },
      "source": [
        "# make predictions on the testing set\n",
        "print(\"[INFO] evaluating network...\")\n",
        "predIdxs = model.predict(testX, batch_size=BS)\n",
        "# for each image in the testing set we need to find the index of the\n",
        "# label with corresponding largest predicted probability\n",
        "predIdxs = np.argmax(predIdxs, axis=1)\n",
        "# show a nicely formatted classification report\n",
        "print(classification_report(testY.argmax(axis=1), predIdxs,\n",
        "\ttarget_names=lb.classes_))"
      ],
      "execution_count": 7,
      "outputs": [
        {
          "output_type": "stream",
          "text": [
            "[INFO] evaluating network...\n",
            "              precision    recall  f1-score   support\n",
            "\n",
            "       covid       0.83      1.00      0.91         5\n",
            "      normal       1.00      0.80      0.89         5\n",
            "\n",
            "    accuracy                           0.90        10\n",
            "   macro avg       0.92      0.90      0.90        10\n",
            "weighted avg       0.92      0.90      0.90        10\n",
            "\n"
          ],
          "name": "stdout"
        }
      ]
    },
    {
      "cell_type": "code",
      "metadata": {
        "id": "pm7pTPfmMPPD",
        "colab_type": "code",
        "outputId": "5cb828be-1fb2-400f-cd44-5245266f0c11",
        "colab": {
          "base_uri": "https://localhost:8080/",
          "height": 102
        }
      },
      "source": [
        "# compute the confusion matrix and and use it to derive the raw\n",
        "# accuracy, sensitivity, and specificity\n",
        "cm = confusion_matrix(testY.argmax(axis=1), predIdxs)\n",
        "total = sum(sum(cm))\n",
        "acc = (cm[0, 0] + cm[1, 1]) / total\n",
        "sensitivity = cm[0, 0] / (cm[0, 0] + cm[0, 1])\n",
        "specificity = cm[1, 1] / (cm[1, 0] + cm[1, 1])\n",
        "# show the confusion matrix, accuracy, sensitivity, and specificity\n",
        "print(cm)\n",
        "print(\"acc: {:.4f}\".format(acc))\n",
        "print(\"sensitivity: {:.4f}\".format(sensitivity))\n",
        "print(\"specificity: {:.4f}\".format(specificity))"
      ],
      "execution_count": 8,
      "outputs": [
        {
          "output_type": "stream",
          "text": [
            "[[5 0]\n",
            " [1 4]]\n",
            "acc: 0.9000\n",
            "sensitivity: 1.0000\n",
            "specificity: 0.8000\n"
          ],
          "name": "stdout"
        }
      ]
    },
    {
      "cell_type": "code",
      "metadata": {
        "id": "Y1qJcBzUMS1C",
        "colab_type": "code",
        "outputId": "263bbdce-a714-47b9-f3ab-53d9d647f282",
        "colab": {
          "base_uri": "https://localhost:8080/",
          "height": 299
        }
      },
      "source": [
        "# plot the training loss and accuracy\n",
        "N = EPOCHS\n",
        "plt.style.use(\"ggplot\")\n",
        "plt.figure()\n",
        "plt.plot(np.arange(0, N), H.history[\"loss\"], label=\"train_loss\")\n",
        "plt.plot(np.arange(0, N), H.history[\"val_loss\"], label=\"val_loss\")\n",
        "plt.plot(np.arange(0, N), H.history[\"acc\"], label=\"train_acc\")\n",
        "plt.plot(np.arange(0, N), H.history[\"val_acc\"], label=\"val_acc\")\n",
        "plt.title(\"Training Loss and Accuracy on COVID-19 Dataset\")\n",
        "plt.xlabel(\"Epoch #\")\n",
        "plt.ylabel(\"Loss/Accuracy\")\n",
        "plt.legend(loc=\"lower left\")\n",
        "plt.savefig(\"/content/drive/My Drive/keras-covid-19/keras-covid-19/plot.png\")"
      ],
      "execution_count": 9,
      "outputs": [
        {
          "output_type": "display_data",
          "data": {
            "image/png": "[encoded data removed]",
            "text/plain": [
              "<Figure size 432x288 with 1 Axes>"
            ]
          },
          "metadata": {
            "tags": []
          }
        }
      ]
    },
    {
      "cell_type": "code",
      "metadata": {
        "id": "0jYfV6kKMWTb",
        "colab_type": "code",
        "outputId": "512fa3d8-d573-4df0-aceb-39d06772f994",
        "colab": {
          "base_uri": "https://localhost:8080/",
          "height": 34
        }
      },
      "source": [
        "# serialize the model to disk\n",
        "print(\"[INFO] saving COVID-19 detector model...\")\n",
        "model.save(\"covid19.model\", save_format=\"h5\")"
      ],
      "execution_count": 10,
      "outputs": [
        {
          "output_type": "stream",
          "text": [
            "[INFO] saving COVID-19 detector model...\n"
          ],
          "name": "stdout"
        }
      ]
    },
    {
      "cell_type": "code",
      "metadata": {
        "id": "AKIPjUWpNiFg",
        "colab_type": "code",
        "colab": {}
      },
      "source": [
        ""
      ],
      "execution_count": 0,
      "outputs": []
    }
  ]
}